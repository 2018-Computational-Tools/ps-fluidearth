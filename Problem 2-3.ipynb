{
 "cells": [
  {
   "cell_type": "markdown",
   "metadata": {},
   "source": [
    "# Analytical Paper 10 - Heat Transport\n",
    "Discuss the physics of heat conduction and its application to temperature profiles and warming in permafrost."
   ]
  },
  {
   "cell_type": "markdown",
   "metadata": {},
   "source": [
    "### Problem 2:\n",
    "The graph below (from Bob and Suzanne Anderson’s $\\textit{Geomorphology: Mechanics and Chemistry of Landscapes}$) shows temperature records collected from a borehole in Alaska between 1977 and 2003. Referring to the 2003 profile, use Fourier’s law to infer the direction in which heat was flowing in the permafrost during 2003 in these two areas of the profile: (a) above 30 m depth and (b) below 40 m depth. Then, (c) suppose you only had data from the year 2003 and therefore had no independent information about whether various points in the profile are warming, cooling, or maintaining a steady temperature. Based on the physics of heat conduction, predict whether the temperature at ∼35 meters depth likely increased, decreased, or stayed the same during the year 2004."
   ]
  },
  {
   "cell_type": "markdown",
   "metadata": {},
   "source": [
    "![title](AndersonPermafrostGraph.png)"
   ]
  },
  {
   "cell_type": "markdown",
   "metadata": {},
   "source": [
    "### Problem 3:\n",
    "The data shown in the figure on the next page have been interpreted as indicating that the ground-surface temperature in this part of the arctic has warmed over the past few decades. Suppose, however, that you ONLY had data from the year 2003, and were therefore unable to directly assess the changes in the permafrost temperature over time. In such a case, a skeptic might argue that the shape of the curve in 2003 could just as easily be interpreted as resulting from differences in the thermal conductivity, $k$, at different depths in the profile, and therefore that the data do not prove that surface warming has occurred. Based on the physics of heat conduction, would such an argument be justified? Why or why not?\n"
   ]
  },
  {
   "cell_type": "markdown",
   "metadata": {},
   "source": [
    "### Snake Writhing in an Exponential Funnel Code"
   ]
  },
  {
   "cell_type": "code",
   "execution_count": 1,
   "metadata": {},
   "outputs": [],
   "source": [
    "### import modules ###\n",
    "import numpy as np # for arrays & math\n",
    "import matplotlib.pyplot as plt # for plotting\n",
    "import matplotlib.animation as animation # to make a movie\n",
    "#from matplotlib.collections import LineCollection # to plot a multicolored line\n",
    "degree = u\"\\u00b0\" # unicode symbol for degree for labeling plots nicely"
   ]
  },
  {
   "cell_type": "code",
   "execution_count": 2,
   "metadata": {},
   "outputs": [],
   "source": [
    "### set up figure parameters how i like them ###\n",
    "plt.rcParams['axes.facecolor'] =(1,1,1,1)  # white plot backgrounds\n",
    "plt.rcParams['figure.facecolor']=(1,1,1,0) # clear figure backgrounds\n",
    "plt.rcParams['xtick.top']=True # plot ticks on top\n",
    "plt.rcParams['ytick.right']=True # plot ticks on right side\n",
    "plt.rcParams['ytick.direction']='in' # Y tick marks face in\n",
    "plt.rcParams['xtick.direction']='in' # X tick marks face in"
   ]
  },
  {
   "cell_type": "code",
   "execution_count": 3,
   "metadata": {},
   "outputs": [],
   "source": [
    "### initialize variables ###\n",
    "MAT = -10 # mean annual temp in degrees C\n",
    "dT = 15 # change in temp in degrees C\n",
    "k = 1.2 # thermal conductivity in W/(m-K) (value for top 30 m)\n",
    "kappa = 1 * 1e-6 # thermal diffusivity in m^2/sec\n",
    "period = 3.154*1e7 # one year in seconds\n",
    "zstar = np.sqrt((kappa * period) / np.pi) # depth decay scale\n",
    "\n",
    "#### initialize arrays ###\n",
    "zsteps = 50 # number of steps in depth array\n",
    "tsteps = 100 # number of steps in time array\n",
    "\n",
    "# initialize depth (z) array from 0-15 m with \"steps\" depth steps\n",
    "z = np.linspace(0,15,num=zsteps) # depth, top 15 m\n",
    "\n",
    "# initialize time array from 0 to period with \"steps\" time steps\n",
    "time = np.linspace(0,period,num=tsteps) # time, 1 year in 30 time steps\n",
    "\n",
    "# initialize temperature array of same size as depth * time\n",
    "Temp = np.ndarray(shape=(tsteps,zsteps), dtype=float) # temperature in degrees C\n",
    "\n",
    "### calculate temperature min/max bounds ###\n",
    "Tmin = MAT - (dT * np.exp(-z/zstar)) # calculate geotherm for min temp\n",
    "Tmax = MAT + (dT * np.exp(-z/zstar)) # caclulate geotherm for max temp"
   ]
  },
  {
   "cell_type": "code",
   "execution_count": 4,
   "metadata": {},
   "outputs": [
    {
     "data": {
      "text/plain": [
       "<Figure size 432x288 with 0 Axes>"
      ]
     },
     "metadata": {},
     "output_type": "display_data"
    }
   ],
   "source": [
    "### set up plot & movie ###\n",
    "# set up the movie\n",
    "fig, ax = plt.subplots(1,1,figsize=(6,4)) # open a blank figure\n",
    "writer = animation.FFMpegWriter(fps=15) # initialize the movie writer\n",
    "writer.setup(fig, 'snake.mp4', dpi=300) # set up the movie writer to capture the figure frames\n",
    "\n",
    "### calculate geotherms ###\n",
    "# loop through time array calculating a geotherm at each time step for all of the depth array and plotting the result.\n",
    "\n",
    "# loop through time array. i is the index. v is the value\n",
    "for i,v in enumerate(time):\n",
    "    \n",
    "    # calculate temp at this timestep for all of z\n",
    "    Temp[i,:] = MAT + (dT * np.exp(-z/zstar)) * np.sin(((2*np.pi*time[i])/period)-(z/zstar))\n",
    "    \n",
    "    # set up plotting\n",
    "    plt.ylim(0,15) # set limits for Y axis\n",
    "    plt.xlim(-25,5,5) # set limits for X axis\n",
    "    plt.gca().invert_yaxis() # invert the Y axis so it plots with 0m depth (Earth's surface) at the top\n",
    "    plt.xlabel('Temperature ('+degree+'C)') # label the X axis\n",
    "    plt.ylabel('Depth (m)') # label the Y axis\n",
    "    plt.plot(Tmin,z,color='black',linewidth=.75) # add geotherm boundary for max temp to plot\n",
    "    plt.plot(Tmax,z,color='black',linewidth=.75) # add geotherm boundary for min temp to plot\n",
    "    plt.text(0.05,0.05,np.str(np.int(v/86400))+' days',transform=ax.transAxes) # add text to graph\n",
    "    #plt.axvline(0,0,15,color='black',linestyle='--') # plot a vertical line at 0C from 0-15m depth (black, dashed line)\n",
    "    \n",
    "    # plot geotherm at this timestep\n",
    "    plt.plot(Temp[i,:],z,linewidth=1)\n",
    "    \n",
    "    # was trying to plot a multicolored line based on temp following example from here: https://matplotlib.org/gallery/lines_bars_and_markers/multicolored_line.html\n",
    "    # but it is not working. giving up for now.\n",
    "#     norm = plt.Normalize(Tmin.min(), Tmax.max())\n",
    "#     points = np.array(Temp[i,:]).T.reshape(-1, 1, 2)\n",
    "#     segments = np.concatenate([points[:-1], points[1:]], axis=1)\n",
    "#     lc.set_array(Temp[i,:])\n",
    "#     lc.set_linewidth(2)\n",
    "#     line = ax[0].add_collection(lc)\n",
    "\n",
    "    # save the figure as one frame to the movie file\n",
    "    writer.grab_frame()\n",
    "    \n",
    "    # optionally, uncomment the next line to save the figure as a png\n",
    "    #plt.savefig('plot_title.png',dpi=300)\n",
    "    \n",
    "    # clear the figure so geogetherms aren't over printed (i.e., one geotherm per frame)\n",
    "    plt.clf()\n",
    "    \n",
    "\n",
    "# finish writing and close the movie file\n",
    "writer.finish() "
   ]
  },
  {
   "cell_type": "markdown",
   "metadata": {},
   "source": [
    "### Run the next cell to play the video"
   ]
  },
  {
   "cell_type": "code",
   "execution_count": 5,
   "metadata": {},
   "outputs": [
    {
     "data": {
      "text/html": [
       "<video width=\"800\" height=\"600\" loop=True controls>\n",
       "  <source src='snake.mp4' type=\"video/mp4\">\n",
       "</video>"
      ],
      "text/plain": [
       "<IPython.core.display.HTML object>"
      ]
     },
     "metadata": {},
     "output_type": "display_data"
    }
   ],
   "source": [
    "%%HTML\n",
    "<video width=\"800\" height=\"600\" loop=True controls>\n",
    "  <source src='snake.mp4' type=\"video/mp4\">\n",
    "</video>"
   ]
  },
  {
   "cell_type": "code",
   "execution_count": null,
   "metadata": {},
   "outputs": [],
   "source": []
  }
 ],
 "metadata": {
  "kernelspec": {
   "display_name": "Python 3",
   "language": "python",
   "name": "python3"
  },
  "language_info": {
   "codemirror_mode": {
    "name": "ipython",
    "version": 3
   },
   "file_extension": ".py",
   "mimetype": "text/x-python",
   "name": "python",
   "nbconvert_exporter": "python",
   "pygments_lexer": "ipython3",
   "version": "3.6.5"
  }
 },
 "nbformat": 4,
 "nbformat_minor": 2
}
