{
 "cells": [
  {
   "cell_type": "markdown",
   "metadata": {},
   "source": [
    "# Analytical Paper 10\n",
    "**Fluid Earth: GEOL 3820**\n",
    "\n",
    "Discuss the physics of heat conduction and its application to temperature profiles and warming in permafrost."
   ]
  },
  {
   "cell_type": "markdown",
   "metadata": {},
   "source": [
    "### Technical Prerequisites\n",
    "* Students should be able to run a Python cell in a Jupyter notebook \n",
    "* Familiarity with defining variables in Python recommended \n",
    "\n",
    "### Conceptual Prerequisites\n",
    "* Students should have a strong grasp of derivatives and integrals. \n",
    "* Students should be familiar with Fourier Transport Laws\n",
    "* Students should be familiar with equations that govern diffusion\n",
    "\n",
    "### Learning Goals\n",
    "* Students will be able to define a variable, run notebook cells, call defined functions, create arrays and plot figures in python. \n",
    "* Students will be able to create figures that describe how changing thermal conductivity affects thermal profiles in the upper crust.\n",
    "* Students will be able to use figures they have created to augment their writing \n",
    "* Students will be able to list the variables that control thermal diffusion\n",
    "* Students will be able to apply what they know about diffusion to describe hillslope evolution. "
   ]
  },
  {
   "cell_type": "markdown",
   "metadata": {},
   "source": [
    "### 1. Steady state temperature profiles: \n",
    "Consider three steady geothermal profiles in the upper 100 m below the ground surface. You will plot the profiles for each of the three cases listed below.  "
   ]
  },
  {
   "cell_type": "markdown",
   "metadata": {},
   "source": [
    "#### Primer on discretization of the solution to Fourier's Law\n",
    "\n",
    "In 1D space, Fourier's Law is of the form:\n",
    "    $q = -k\\frac{\\textrm{d}T}{\\textrm{d}y}$, \n",
    "    where $q$ is heat flux, $T$ is temperature, $k$ is a constant term describing \n",
    "    thermal conductivity, and $y$ is distance (depth in this case).\n",
    "    \n",
    "Analytically, we use integration to find temperature as a function of depth.\n",
    "We would then use the initial conditions to solve for unknown constants.\n",
    "This problem is left as an exercise for the user. \n",
    "\n",
    "Numerical evaluation with a computer requires us to transform the continuous \n",
    "solution into its discrete equivalen\n",
    "ts (computers do not have infinite memory!)\n",
    "\n",
    "One common approach is to employ Euler's method to estimate the solution (the \n",
    "function for temperature that we seek to define the temperature profile).\n",
    "This method provides an approximation of the solution, however the code can\n",
    "be written to provide sufficient precision to represent its true continuous\n",
    "form, which we would arrive upon directly/analytically through integration.\n",
    "\n",
    "\n",
    "We start with $\\frac{\\textrm{d}T}{\\textrm{d}y} = -q/k$, which we approximate by $\\frac{\\textrm{d}T}{\\textrm{d}y} = \\frac{T(y_{n+1}) - T(y_n)}{y_{n+1} - y_n}$\n",
    "for each step along the depth profile. The step size defines the precision of \n",
    "the approximation. If we have an initial value for $T$ at the surface, we can now use this value \n",
    "to solve for each subsequent $T$ with depth.\n",
    "\n",
    "You also will need a starting value for $q$ in order to solve the equations."
   ]
  },
  {
   "cell_type": "markdown",
   "metadata": {},
   "source": [
    "#### a)\n",
    "\n",
    "Run the following function for the case where heat is flowing upward by conduction at a constant, steady rate. Note that you will need to change the value of k, which is the thermal conductivity in ($\\frac{W}{mK}$).\n",
    "\n",
    "***To run a cell: cntl+enter***"
   ]
  },
  {
   "cell_type": "code",
   "execution_count": null,
   "metadata": {
    "collapsed": true
   },
   "outputs": [],
   "source": [
    "##Importing the packages needed to run our code \n",
    "import numpy as np # Numpy is a mathematical package\n",
    "import matplotlib.pyplot as plt #matplotlib allows us to plot figures\n",
    "import matplotlib.axes as axes\n",
    "import matplotlib.animation as animation # to make a movie\n",
    "degree = u\"\\u00b0\" # unicode symbol for degree for labeling plots nicely\n",
    "print('modules imported')"
   ]
  },
  {
   "cell_type": "code",
   "execution_count": null,
   "metadata": {
    "collapsed": true
   },
   "outputs": [],
   "source": [
    "##DO NOT EDIT THIS FUNCTION!!!\n",
    "\n",
    "#This is our function to integrate Fourier's law of heat transport:\n",
    "##See below for definitions of input variables\n",
    "\n",
    "def solve_FourierLaw1D(dy,y0,yf,T0,q,k):\n",
    "\n",
    "    import numpy as np \n",
    "    \n",
    "    n_steps = int((yf-y0)/dy) #number of depth intervals where we solve for T\n",
    "    y = y0 #setting our current depth to be the inital depth given to the function\n",
    "    T = T0 #setting our current temperature to be the inital temp. given to the function\n",
    "    \n",
    "    \"\"\"Creating empty arrays for T and y to keep the code fast. These arrays will be the same\n",
    "    length as the number of steps we have.\"\"\"\n",
    "    \n",
    "    TT = np.zeros(n_steps) \n",
    "    yy = np.zeros(n_steps)\n",
    "    TT[0] = T #Setting the first T value (surface) to be T0\n",
    "    yy[0] = y #Setting the first y value to be y0\n",
    "    \n",
    "    #Loop through all of our steps to solve for T\n",
    "    \n",
    "    for n in range(n_steps-1): #because we already have a T at the top of our layer, we need one less step\n",
    "        y = y+dy #update y to be current depth\n",
    "        T = T-((q/k)*dy) #calculate T at current depth using Fourier's law\n",
    "        TT[n+1] = T #assign T values to our T array\n",
    "        yy[n+1] = y #assign y values to our y array\n",
    "         \n",
    "    return TT,yy\n",
    "\n",
    "print('function defined')"
   ]
  },
  {
   "cell_type": "markdown",
   "metadata": {},
   "source": [
    "In the cell below You will need to enter values for y0, yf, T0, and k. We have given a value of q (the heat flux)\n",
    "at 55.5 W/m^2, but feel free to play with this!\n",
    "\n",
    "Additionally, we have set a value for dy for you, but feel free to play around with different values of dy. Think logically about what this step size means when choosing a value."
   ]
  },
  {
   "cell_type": "code",
   "execution_count": null,
   "metadata": {
    "collapsed": true
   },
   "outputs": [],
   "source": [
    "q = -55.5 #heat flux in W/m^2\n",
    "dy = 0.1 # #dy is the step size. insert value for dy here in m\n",
    "y0 = \"Enter initial elevation\" #delete quotes and enter elevation at surface/top of layer in m\n",
    "yf = \"Enter final elevation\" #delete quotes and elevation at the base of your layer in m\n",
    "T0 = \"Enter temperature at surface\" #delete quotes and enter temperature at Earth's surface/top of layer in K\n",
    "k = \"Enter thermal conductivity\" #delete quotes and enter thermal conductivity in W/mK\n",
    "\n",
    "print('y0,yf,T0,k: %s, %s, %s, %s' %(y0,yf,T0,k))"
   ]
  },
  {
   "cell_type": "markdown",
   "metadata": {},
   "source": [
    "**Why does q have a negative value?**\n",
    "\n",
    "To enter your answer, double click on this cell and enter your answer below."
   ]
  },
  {
   "cell_type": "markdown",
   "metadata": {},
   "source": [
    "Now to run the code with all of these values as inputs. The output will be two vectors. The first vector is of temperatures, and the second vector is the depth at which those temperatures occur."
   ]
  },
  {
   "cell_type": "code",
   "execution_count": null,
   "metadata": {
    "collapsed": true
   },
   "outputs": [],
   "source": [
    "T,y = solve_FourierLaw1D(dy,y0,yf,T0,q,k) # this uses the function defined above\n",
    "T"
   ]
  },
  {
   "cell_type": "markdown",
   "metadata": {},
   "source": [
    "**Now plot your results!**\n",
    "\n",
    "You should plot your results for the constant k case. You will need to fill in a title and axis labels for your plot. Note that we have used the plt.plot command that we loaded in at the beginning of our code. T is our array of x-values to plot and y is our array of y-values. You can (and should!) use this template in future plotting throughout this assignment. The following code will save your figure to the binder, you need to download it to your computer. "
   ]
  },
  {
   "cell_type": "code",
   "execution_count": null,
   "metadata": {},
   "outputs": [],
   "source": [
    "#Copy and paste this block of code as a template for future plotting.\n",
    "\n",
    "Title = 'My title goes here' #Insert a plot title within the single quotations.\n",
    "Xlabel = 'This is my x axis' #Insert an x-axis label.\n",
    "Ylabel = 'This is my y axis' #Insert a y-axis label.\n",
    "\n",
    "#This next block of code plots this figure. The plt here is from our matplotlib import at the beginning.\n",
    "plt.plot(T,y,'b-',linewidth = 2) #T and y are our x and y arrays; 'b-' sets the plotting style to be a blue solid line\n",
    "plt.gca().invert_yaxis() #inverts our y axis so that 0 is at the surface\n",
    "plt.title(Title) #Plots a title\n",
    "plt.xlabel(Xlabel) #Plots the x-axis label\n",
    "plt.ylabel(Ylabel) #Plots the y-axis label\n",
    "plt.savefig('Your file name here.png') #Saves your figure! Replace the Your file name here with a file name\n",
    "plt.show() #Shows our plot inline below\n"
   ]
  },
  {
   "cell_type": "markdown",
   "metadata": {},
   "source": [
    "#### b)\n",
    "Now run the function for the case where the upper 50 m layer has a lower thermal conductivity than the layer below. Note that for this case you will need to run the function twice for the two different thermal conductivities and then combine your temperature profiles into one plot."
   ]
  },
  {
   "cell_type": "code",
   "execution_count": null,
   "metadata": {
    "collapsed": true
   },
   "outputs": [],
   "source": [
    "#Setting new k value for upper 50 m\n",
    "k_upper = \"Enter value for k\" #Thermal conductivity for upper 50 m - delete quotes\n",
    "y0 = \"Enter starting y\" #Starting y - delete quotes\n",
    "yf = \"Enter ending y\" #Ending y - delete quotes\n",
    "\n",
    "#Running function for upper 50 m\n",
    "T_upper,y_upper = solve_FourierLaw1D(dy,y0,yf,T0,q,k_upper)\n",
    "\n",
    "#Setting new k value and initial conditions for lower 50 m\n",
    "k_lower = \"Enter value for k\" #Thermal conductivity for lower 50 m - delete quotes\n",
    "y0 = \"Enter starting y\" #Starting y - delete quotes\n",
    "yf = \"Enter ending y\" #Ending y - delete quotes\n",
    "T0_new = T_upper[-1] #Setting our new T0 to be the deepest value from the function above\n",
    "\n",
    "#Running function for lower 50 m\n",
    "T_lower,y_lower = solve_FourierLaw1D(dy,y0,yf,T0_new,q,k_lower)\n",
    "\n",
    "#Concatenating y and T arrays into one for plotting purposes\n",
    "T = np.concatenate([T_upper,T_lower])\n",
    "y = np.concatenate([y_upper,y_lower])"
   ]
  },
  {
   "cell_type": "code",
   "execution_count": null,
   "metadata": {},
   "outputs": [],
   "source": [
    "#Plotting our new profile with variable k:\n",
    "\n",
    "Title = 'My title goes here' #Insert a plot title within the single quotations.\n",
    "Xlabel = 'This is my x axis' #Insert an x-axis label.\n",
    "Ylabel = 'This is my y axis' #Insert a y-axis label.\n",
    "\n",
    "plt.plot(\"Enter x array and delete quotes\",\"Enter y array and delete quotes\",'b-',linewidth = 2) #Plotting the function: you should enter the x and y arrays you want to plot! Refer to the plotting above if you need help\n",
    "plt.gca().invert_yaxis() #inverts our y axis so that 0 is at the surface\n",
    "plt.title(Title)\n",
    "plt.xlabel(Xlabel)\n",
    "plt.ylabel(Ylabel)\n",
    "plt.savefig('figure2.png')\n",
    "plt.show()\n",
    "\n",
    "print(\"don't forget to download this figure to your computer.\")"
   ]
  },
  {
   "cell_type": "markdown",
   "metadata": {},
   "source": [
    "#### c)\n",
    "Finally, run the function for the case where the upper 50 m layer has a higher thermal conductivity than the layer below. Notice that we did not give you any code below. You will need to copy and paste relevant parts from part (b) to run and plot the results of your function. "
   ]
  },
  {
   "cell_type": "code",
   "execution_count": null,
   "metadata": {
    "collapsed": true
   },
   "outputs": [],
   "source": [
    "## In this section you should solve Fourier's Heat Transport for both sections separately, and then concatenate the arrays.\n",
    "## Use part b as a guide "
   ]
  },
  {
   "cell_type": "code",
   "execution_count": null,
   "metadata": {
    "collapsed": true
   },
   "outputs": [],
   "source": [
    "## Plot your results. Use the plotting function from part a!"
   ]
  },
  {
   "cell_type": "markdown",
   "metadata": {},
   "source": [
    "**Describe profile shapes**\n",
    "\n",
    "Please explain in words why the three profiles have the shapes that they do. Reference Fourier's law of heat conduction and the three plots you just made in your explanation. To add your answer, double click on this cell and enter your answer below."
   ]
  },
  {
   "cell_type": "markdown",
   "metadata": {},
   "source": [
    "### 2. Snake writhing in an exponential funnel\n",
    "Below we is a code to plot temperatures in the top 15 m of a soil (A snake in an exponential funnel). Run the next two cells to play the video. "
   ]
  },
  {
   "cell_type": "code",
   "execution_count": null,
   "metadata": {},
   "outputs": [],
   "source": [
    "### set up movie of snake in an exponential funnel ###\n",
    "\n",
    "### initialize variables ###\n",
    "MAT = -10 # mean annual temp in degrees C\n",
    "dT = 15 # change in temp in degrees C\n",
    "k = 1.2 # thermal conductivity in W/(m-K) (value for top 30 m)\n",
    "kappa = 1 * 1e-6 # thermal diffusivity in m^2/sec\n",
    "period = 3.154*1e7 # one year in seconds\n",
    "zstar = np.sqrt((kappa * period) / np.pi) # depth decay scale\n",
    "\n",
    "#### initialize arrays ###\n",
    "zsteps = 50 # number of steps in depth array\n",
    "tsteps = 100 # number of steps in time array\n",
    "\n",
    "# initialize depth (z) array from 0-15 m with \"steps\" depth steps\n",
    "zmax = 15\n",
    "z = np.linspace(0,zmax,num=zsteps) # depth, top 15 m\n",
    "\n",
    "# initialize time array from 0 to period with \"steps\" time steps\n",
    "time = np.linspace(0,period,num=tsteps) # time, 1 year in 30 time steps\n",
    "\n",
    "# initialize temperature array of same size as depth * time\n",
    "Temp = np.ndarray(shape=(tsteps,zsteps), dtype=float) # temperature in degrees C\n",
    "\n",
    "### calculate temperature min/max bounds ###\n",
    "Tmin = MAT - (dT * np.exp(-z/zstar)) # calculate geotherm for min temp\n",
    "Tmax = MAT + (dT * np.exp(-z/zstar)) # caclulate geotherm for max temp\n",
    "\n",
    "# set up the movie\n",
    "fig, ax = plt.subplots(1,1,figsize=(6,4)) # open a blank figure\n",
    "writer = animation.FFMpegWriter(fps=15) # initialize the movie writer\n",
    "writer.setup(fig, 'snake.mp4', dpi=300) # set up the movie writer to capture the figure frames\n",
    "\n",
    "### calculate geotherms ###\n",
    "# loop through time array calculating a geotherm at each time step for all of the depth array and plotting the result.\n",
    "\n",
    "# loop through time array. i is the index. v is the value\n",
    "for i,v in enumerate(time):\n",
    "    \n",
    "    # calculate temp at this timestep for all of z\n",
    "    Temp[i,:] = MAT + (dT * np.exp(-z/zstar)) * np.sin(((2*np.pi*time[i])/period)-(z/zstar))\n",
    "    \n",
    "    # set up plotting\n",
    "    plt.ylim(0,zmax) # set limits for Y axis\n",
    "    plt.xlim(-25,5,5) # set limits for X axis\n",
    "    plt.gca().invert_yaxis() # invert the Y axis so it plots with 0m depth (Earth's surface) at the top\n",
    "    plt.xlabel('Temperature ('+degree+'C)') # label the X axis\n",
    "    plt.ylabel('Depth (m)') # label the Y axis\n",
    "    plt.plot(Tmin,z,color='black',linewidth=.75) # add geotherm boundary for max temp to plot\n",
    "    plt.plot(Tmax,z,color='black',linewidth=.75) # add geotherm boundary for min temp to plot\n",
    "    plt.text(0.05,0.05,np.str(np.int(v/86400))+' days',transform=ax.transAxes) # add text to graph\n",
    "    #plt.axvline(0,0,15,color='black',linestyle='--') # plot a vertical line at 0C from 0-15m depth (black, dashed line)\n",
    "    \n",
    "    # plot geotherm at this timestep\n",
    "    plt.plot(Temp[i,:],z,linewidth=1)\n",
    "\n",
    "\n",
    "    # save the figure as one frame to the movie file\n",
    "    writer.grab_frame()\n",
    "    \n",
    "    # optionally, uncomment the next line to save the figure as a png\n",
    "    #plt.savefig('plot_title.png',dpi=300)\n",
    "    \n",
    "    # clear the figure so geogetherms aren't over printed (i.e., one geotherm per frame)\n",
    "    plt.clf()\n",
    "    \n",
    "\n",
    "# finish writing and close the movie file\n",
    "writer.finish() \n",
    "\n",
    "print('movie made')"
   ]
  },
  {
   "cell_type": "code",
   "execution_count": null,
   "metadata": {},
   "outputs": [],
   "source": [
    "%%HTML\n",
    "<video width=\"800\" height=\"600\" loop=True controls>\n",
    "  <source src='snake.mp4' type=\"video/mp4\">\n",
    "</video>"
   ]
  },
  {
   "cell_type": "markdown",
   "metadata": {},
   "source": [
    "**The graph below (from Bob and Suzanne Anderson’s $\\textit{Geomorphology: Mechanics and Chemistry of Landscapes}$) shows temperature records collected from a borehole in Alaska between 1977 and 2003.**\n",
    "\n",
    "![title](AndersonPermafrostGraph.png)"
   ]
  },
  {
   "cell_type": "markdown",
   "metadata": {},
   "source": [
    "***For the cells below, double-click on the text and type your answer below***"
   ]
  },
  {
   "cell_type": "markdown",
   "metadata": {},
   "source": [
    "#### a)\n",
    "Please make observations about the shape of the curve above. How has the shape changed through time? Please also compare the snake in an expontial funnel movie and the plot above (Hint: be sure to pay attention to the y-scale)."
   ]
  },
  {
   "cell_type": "markdown",
   "metadata": {},
   "source": [
    "#### b) \n",
    "Please write out the key variables associated with Fourier's Law (feel free to use latex if you are familiar), and infer the direction of heat flow above 30 m and below 40 m (i.e. upward or downward heat flux). "
   ]
  },
  {
   "cell_type": "markdown",
   "metadata": {},
   "source": [
    "#### c) \n",
    "Suppose you only had data from the year 2003 and therefore had no independent information about whether various points in the profile are warming, cooling, or maintaining a steady temperature. Based on the physics of heat conduction, predict whether the temperature at ∼35 meters depth likely increased, decreased, or stayed the same during the year 2004."
   ]
  },
  {
   "cell_type": "markdown",
   "metadata": {},
   "source": [
    "#### d) \n",
    "The data shown in the figure have been interpreted as indicating that the ground-surface temperature in this part of the arctic has warmed over the past few decades. Suppose, however, that you ONLY had data from the year 2003, and were therefore unable to directly assess the changes in the permafrost temperature over time. In such a case, a skeptic might argue that the shape of the curve in 2003 could just as easily be interpreted as resulting from differences in the thermal conductivity, $k$, at different depths in the profile, and therefore that the data do not prove that surface warming has occurred.  Based on the physics of heat conduction, would such an argument be justified? \n",
    "\n",
    "**Use your code from problem one to justify your answer by plotting differences in k to try to recreate the temperature curve from 2003.**"
   ]
  },
  {
   "cell_type": "markdown",
   "metadata": {},
   "source": [
    "### 3. Hillslope Diffusion\n",
    "**Apply the diffusion equation to a hill slope**\n",
    "\n",
    "Imagine a soil-mantled hillslope of length L. The downslope flux of soil, $q_s$, in cubic meters of soil per year per unit contour width (i.e., in $m^2/yr$), is given by Gilbert’s Law: \n",
    "\\begin{align} \n",
    "q_{s} = -K_{d} \\frac{\\partial z}{\\partial x}\n",
    "\\end{align}\n",
    "\n",
    "where $z$ is land surface height relative to the base of the hill [L], $x$ is horizontal distance from\n",
    "the top of the hill [L], and $K_d$ is a transport coefficient [L^2/T]. Assume that the hillslope is\n",
    "eroding at a steady rate $E$, such that the downslope flux of soil per unit width is also equal\n",
    "to:\n",
    "\n",
    "\\begin{align} \n",
    "q_{s} = Ex\n",
    "\\end{align}"
   ]
  },
  {
   "cell_type": "markdown",
   "metadata": {},
   "source": [
    "#### a) \n",
    "Use this information to derive an equation that gives land height, z, as a function of position along the hill, x. (Hint: you’ll need to integrate). To enter your answer, double click this cell and enter your answer below. "
   ]
  },
  {
   "cell_type": "markdown",
   "metadata": {},
   "source": [
    "#### b) \n",
    "Use questions 1 and 2 as a hint to make a plot that shows the hillslope profile (z versus x) for a 100 m long hill with an erosion rate of $2*10^-5 m^2 / yr$ and a transport coefficient $K_{d} = 0.004 m^2/yr$. Note that we have commented the lines of code for you. Your job is to write the actual code before the commented section. "
   ]
  },
  {
   "cell_type": "code",
   "execution_count": null,
   "metadata": {
    "collapsed": true
   },
   "outputs": [],
   "source": [
    "# In this cell define your constants\n",
    "\n",
    "    #Length of hillslope (m)\n",
    "    #maximum height of hillslope (m)\n",
    "    #Erosion rate (m^2/yr)\n",
    "    #transport coefficient (m^2/yr)\n",
    "    #spatial step (m)\n",
    "    "
   ]
  },
  {
   "cell_type": "code",
   "execution_count": null,
   "metadata": {},
   "outputs": [],
   "source": [
    "# In this cell set up your arrays and solve for z\n",
    "   #set up x domain. use x = np.arange(startingvalue,endingvalue,spatialstep)\n",
    "    \n",
    "  #solve for z using your equation you integrated from above"
   ]
  },
  {
   "cell_type": "code",
   "execution_count": null,
   "metadata": {},
   "outputs": [],
   "source": [
    "# In this cell plot your results. You may copy and then update the plotting template from question 1. Think about how you want your y-axis oriented.\n"
   ]
  },
  {
   "cell_type": "markdown",
   "metadata": {},
   "source": [
    "#### c)\n",
    "Please describe the hillslope with words. Enter your answer by double clicking on this cell. "
   ]
  },
  {
   "cell_type": "markdown",
   "metadata": {},
   "source": [
    "### 4. Save Output\n",
    "\n",
    "1. Download all your figures to your computer.\n",
    "2. Export this notebook to an html file (File --> Export Notebook As --> HTML)."
   ]
  },
  {
   "cell_type": "code",
   "execution_count": null,
   "metadata": {},
   "outputs": [],
   "source": []
  }
 ],
 "metadata": {
  "kernelspec": {
   "display_name": "Python 2",
   "language": "python",
   "name": "python2"
  },
  "language_info": {
   "codemirror_mode": {
    "name": "ipython",
    "version": 2
   },
   "file_extension": ".py",
   "mimetype": "text/x-python",
   "name": "python",
   "nbconvert_exporter": "python",
   "pygments_lexer": "ipython2",
   "version": "2.7.15"
  }
 },
 "nbformat": 4,
 "nbformat_minor": 2
}
