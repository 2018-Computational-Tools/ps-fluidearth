{
 "cells": [
  {
   "cell_type": "markdown",
   "metadata": {},
   "source": [
    "# Analytical Paper 10\n",
    "### Fluid Earth: GEOL 3820\n",
    "\n"
   ]
  },
  {
   "cell_type": "markdown",
   "metadata": {},
   "source": [
    "1. Steady state temperature profiles: Consider three steady geothermal profiles in the upper\n",
    "   100 m below the ground surface. You will plot the profiles for each of the three cases listed below.  \n",
    "     \n",
    "(a) Run the following function for the case where heat is flowing upward by conduction at a constant, steady rate. Note that you will need to change the value of k, which is the thermal conductivity in ($\\frac{W}{mK}$). \n",
    "\n"
   ]
  },
  {
   "cell_type": "code",
   "execution_count": 1,
   "metadata": {
    "collapsed": true
   },
   "outputs": [],
   "source": [
    "##Importing the packages needed to run our code. Numpy is a mathematical package and matplotlib\n",
    "##allows us to plot figures\n",
    "\n",
    "import numpy as np\n",
    "import matplotlib.pyplot as plt\n",
    "import matplotlib.axes as axes"
   ]
  },
  {
   "cell_type": "code",
   "execution_count": 10,
   "metadata": {
    "collapsed": true
   },
   "outputs": [],
   "source": [
    "#This is our function to integrate Fourier's law of heat transport:\n",
    "\n",
    "\"\"\"\n",
    "Primer on discretization of the solution to Fourier's Law...\n",
    "\n",
    "In 1D space, Fourier's Law is of the form:\n",
    "    q = -k*(dT/dy), \n",
    "    where q is heat flux, T is temperature, k is a constant term describing \n",
    "    thermal conductivity, and y is distance (depth in this case).\n",
    "    \n",
    "Analytically, we use integration to find temperature as a function of depth.\n",
    "We would then use the initial conditions to solve for unknown constants.\n",
    "This problem is left as an exercise for the user. \n",
    "\n",
    "Numerical evaluation with a computer requires us to transform the continuous \n",
    "solution into its discrete equivalents (computers do not have infinite memory!)\n",
    "\n",
    "One common approach is to employ Euler's method to estimate the solution (the \n",
    "function for temperature that we seek to define the temperature profile).\n",
    "This method provides an approximation of the solution, however the code can\n",
    "be written to provide sufficient precision to represent its true continuous\n",
    "form, which we would arrive upon directly/analytically through integration.\n",
    "\n",
    "\n",
    "We start with dT/dy = -q/k, which we approximate by dT/dy = [T(y_n+1) - T(y_n)]/(y_n+1 - y_n)\n",
    "for each step along the depth profile. The step size defines the precision of \n",
    "the approximation. If we have an initial value for T at the surface, we can now use this value \n",
    "to solve for each subsequent T with depth.\n",
    "\n",
    "You also will need a starting value for q in order to solve the equations.\n",
    "\n",
    "\n",
    "\"\"\"\n",
    "\n",
    "##See below for definitions of input variables\n",
    "\n",
    "##DO NOT EDIT THIS FUNCTION!!!\n",
    "\n",
    "def solve_FourierLaw1D(dy,y0,yf,T0,q,k):\n",
    "\n",
    "    import numpy as np \n",
    "    \n",
    "    n_steps = int((yf-y0)/dy) #number of depth intervals where we solve for T\n",
    "    y = y0 #setting our current depth to be the inital depth given to the function\n",
    "    T = T0 #setting our current temperature to be the inital temp. given to the function\n",
    "    \n",
    "    \"\"\"Creating empty arrays for T and y to keep the code fast. These arrays will be the same\n",
    "    length as the number of steps we have.\"\"\"\n",
    "    \n",
    "    TT = np.zeros(n_steps) \n",
    "    yy = np.zeros(n_steps)\n",
    "    TT[0] = T #Setting the first T value (surface) to be T0\n",
    "    yy[0] = y #Setting the first y value to be y0\n",
    "    \n",
    "    #Loop through all of our steps to solve for T\n",
    "    \n",
    "    for n in range(n_steps-1): #because we already have a T at the top of our layer, we need one less step\n",
    "        y = y+dy #update y to be current depth\n",
    "        T = T-((q/k)*dy) #calculate T at current depth using Fourier's law\n",
    "        TT[n+1] = T #assign T values to our T array\n",
    "        yy[n+1] = y #assign y values to our y array\n",
    "         \n",
    "    return TT,yy\n",
    "\n",
    "\n"
   ]
  },
  {
   "cell_type": "code",
   "execution_count": 23,
   "metadata": {},
   "outputs": [],
   "source": [
    "#dy is the step size. We have set this for you, but feel free to play around with different\n",
    "#values of dy. Think logically about what this step size means when choosing a value.\n",
    "\n",
    "#You will need to enter values for y0, yf, T0, and k. We have given a value of q (the heat flux)\n",
    "#at 55.5 W/m^2, but feel free to play with this!\n",
    "\n",
    "q = -55.5 #heat flux in W/m^2\n",
    "dy = 0.1 #insert value for dy here in m\n",
    "y0 = 0. #elevation at surface/top of layer\n",
    "yf = 100. #elevation at the base of your layer\n",
    "T0 = 280. #temperature at Earth's surface/top of layer in K\n",
    "k = 1.2 #thermal conductivity in W/mK\n",
    "\n",
    "\n",
    "##Now to run the code with all of these values as inputs. The output will be two vectors. The \n",
    "##first vector is of temperatures, and the second vector is the depth at which those\n",
    "##temperatures occur.\n",
    "\n",
    "T,y = solve_FourierLaw1D(dy,y0,yf,T0,q,k)\n"
   ]
  },
  {
   "cell_type": "code",
   "execution_count": 24,
   "metadata": {},
   "outputs": [
    {
     "data": {
      "image/png": "[encoded data removed]",
      "text/plain": [
       "<matplotlib.figure.Figure at 0x116977400>"
      ]
     },
     "metadata": {},
     "output_type": "display_data"
    }
   ],
   "source": [
    "#Plotting our results!\n",
    "#Now you should plot your results for the constant k case. You will need to fill in a title \n",
    "#and axis labels for your plot\n",
    "\n",
    "#Copy and paste this block of code as a template for future plotting.\n",
    "\n",
    "Title = 'My title goes here' #Insert a plot title within the single quotations.\n",
    "Xlabel = 'This is my x axis' #Insert an x-axis label.\n",
    "Ylabel = 'This is my y axis' #Insert a y-axis label.\n",
    "\n",
    "#This next block of code plots this figure. The plt here is from our matplotlib import at the beginning.\n",
    "plt.plot(T,y,'b-',linewidth = 2) #T and y are our x and y arrays; 'b-' sets the plotting style to be a blue solid line\n",
    "plt.gca().invert_yaxis() #inverts our y axis so that 0 is at the surface\n",
    "plt.title(Title) #Plots a title\n",
    "plt.xlabel(Xlabel) #Plots the x-axis label\n",
    "plt.ylabel(Ylabel) #Plots the y-axis label\n",
    "plt.savefig(\"Your file name here.png\") #Saves your figure! Replace the Your file name here with a file name\n",
    "plt.show() #Shows our plot inline below\n"
   ]
  },
  {
   "cell_type": "markdown",
   "metadata": {},
   "source": [
    "(b) Now run the function for the case where the upper 50 m layer has a lower thermal conductivity than the layer below. Note that for this case you will need to run the function twice for the two different thermal conductivities and then combine your temperature profiles into one plot.\n",
    "   "
   ]
  },
  {
   "cell_type": "code",
   "execution_count": 20,
   "metadata": {
    "collapsed": true
   },
   "outputs": [],
   "source": [
    "#Setting new k value for upper 50 m\n",
    "k_upper = 2.\n",
    "y0 = 0. #Starting y\n",
    "yf = 50. #Ending y\n",
    "\n",
    "#Running function for upper 50 m\n",
    "T_upper,y_upper = solve_FourierLaw1D(dy,y0,yf,T0,q,k_upper)\n",
    "\n",
    "#Setting new k value and initial conditions for lower 50 m\n",
    "k_lower = 2.5\n",
    "y0 = 50. #Starting y\n",
    "yf = 100. #Ending y\n",
    "T0_new = T_upper[-1] #Setting our new T0 to be the deepest value from the function above\n",
    "\n",
    "#Running function for lower 50 m\n",
    "T_lower,y_lower = solve_FourierLaw1D(dy,y0,yf,T0_new,q,k_lower)\n",
    "\n",
    "#Concatenating y and T arrays into one for plotting purposes\n",
    "T = np.concatenate([T_upper,T_lower])\n",
    "y = np.concatenate([y_upper,y_lower])"
   ]
  },
  {
   "cell_type": "code",
   "execution_count": 22,
   "metadata": {},
   "outputs": [
    {
     "data": {
      "image/png": "[encoded data removed]",
      "text/plain": [
       "<matplotlib.figure.Figure at 0x116abee80>"
      ]
     },
     "metadata": {},
     "output_type": "display_data"
    }
   ],
   "source": [
    "#Plotting our new profile with variable k:\n",
    "\n",
    "Title = 'My title goes here' #Insert a plot title within the single quotations.\n",
    "Xlabel = 'This is my x axis' #Insert an x-axis label.\n",
    "Ylabel = 'This is my y axis' #Insert a y-axis label.\n",
    "\n",
    "plt.plot(T,y,'b-',linewidth = 2)\n",
    "plt.gca().invert_yaxis()\n",
    "plt.title(Title)\n",
    "plt.xlabel(Xlabel)\n",
    "plt.ylabel(Ylabel)\n",
    "plt.show()"
   ]
  },
  {
   "cell_type": "markdown",
   "metadata": {},
   "source": [
    "(c) Finally, run the function for the case where the upper 50 m layer has a higher thermal conductivity than the layer below. Notice that we did not give you any code below. You will need to copy and paste relevant parts from part (b) to run and plot the results of your function. \n"
   ]
  },
  {
   "cell_type": "code",
   "execution_count": 8,
   "metadata": {
    "collapsed": true
   },
   "outputs": [],
   "source": [
    "##Solve Fourier's heat transport:"
   ]
  },
  {
   "cell_type": "code",
   "execution_count": 9,
   "metadata": {
    "collapsed": true
   },
   "outputs": [],
   "source": [
    "##Plot your results"
   ]
  },
  {
   "cell_type": "markdown",
   "metadata": {},
   "source": [
    "Explain in words why the three profiles have the shapes that they do. Reference Fourier's law of heat conduction and the three plots you just made in your explanation."
   ]
  },
  {
   "cell_type": "code",
   "execution_count": null,
   "metadata": {
    "collapsed": true
   },
   "outputs": [],
   "source": []
  }
 ],
 "metadata": {
  "kernelspec": {
   "display_name": "Python 3",
   "language": "python",
   "name": "python3"
  },
  "language_info": {
   "codemirror_mode": {
    "name": "ipython",
    "version": 3
   },
   "file_extension": ".py",
   "mimetype": "text/x-python",
   "name": "python",
   "nbconvert_exporter": "python",
   "pygments_lexer": "ipython3",
   "version": "3.6.3"
  }
 },
 "nbformat": 4,
 "nbformat_minor": 2
}
